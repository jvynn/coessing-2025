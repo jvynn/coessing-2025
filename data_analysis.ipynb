{
 "cells": [
  {
   "cell_type": "markdown",
   "id": "0b320b8c",
   "metadata": {},
   "source": [
    "## Introduction to Python for Physical Oceanography"
   ]
  },
  {
   "cell_type": "markdown",
   "id": "825c08ff",
   "metadata": {},
   "source": [
    "There are a lot of useful python tutorials out there, but few that really focus on the tools and types of workflows that are commonly employed when doing data analysis in physical oceanography. Here we'll go over some of the basic tools and how you'd might use them to load data, make figures, and do scientific analysis. More resources for learning python in general can be found [here] and [here]"
   ]
  },
  {
   "cell_type": "markdown",
   "id": "21c06560",
   "metadata": {},
   "source": [
    "### Scientific Computing"
   ]
  },
  {
   "cell_type": "code",
   "execution_count": 1,
   "id": "37f6ab9d",
   "metadata": {},
   "outputs": [],
   "source": [
    "import numpy as np"
   ]
  },
  {
   "cell_type": "markdown",
   "id": "53841f9b",
   "metadata": {},
   "source": [
    "The haversine formula calculates the great-circle distance between two points on a sphere:\n",
    "\n",
    "$$\n",
    "a = \\sin^2\\left(\\frac{\\Delta\\phi}{2}\\right) + \\cos(\\phi_1)\\cos(\\phi_2)\\sin^2\\left(\\frac{\\Delta\\lambda}{2}\\right)\n",
    "$$\n",
    "\n",
    "$$\n",
    "c = 2 \\arcsin\\left( \\sqrt{a} \\right)\n",
    "$$\n",
    "\n",
    "$$\n",
    "d = R \\cdot c\n",
    "$$\n",
    "\n",
    "where:\n",
    "\n",
    "- \\( $\\phi_1, \\phi_2$ \\) are the latitudes in radians  \n",
    "- $\\Delta\\phi = \\phi_2 - \\phi_1$ is the difference in latitude  \n",
    "- $\\Delta\\lambda = \\lambda_2 - \\lambda_1$ is the difference in longitude  \n",
    "- $R$ is Earth’s radius (≈ 6367 km)\n"
   ]
  },
  {
   "cell_type": "code",
   "execution_count": 2,
   "id": "eb5dd770",
   "metadata": {},
   "outputs": [],
   "source": [
    "def haversine_np(coord1, coord2):\n",
    "    \"\"\"\n",
    "    Calculate the great-circle distance between two points \n",
    "    on the earth (specified in decimal degrees), given as (lat, lon) tuples.\n",
    "\n",
    "    Args:\n",
    "        coord1: tuple (lat1, lon1)\n",
    "        coord2: tuple (lat2, lon2)\n",
    "\n",
    "    Returns:\n",
    "        Distance in kilometers.\n",
    "    \"\"\"\n",
    "    lat1, lon1 = np.radians(coord1)\n",
    "    lat2, lon2 = np.radians(coord2)\n",
    "\n",
    "    dlon = lon2 - lon1\n",
    "    dlat = lat2 - lat1\n",
    "\n",
    "    a = np.sin(dlat / 2.0) ** 2 + np.cos(lat1) * np.cos(lat2) * np.sin(dlon / 2.0) ** 2\n",
    "    c = 2 * np.arcsin(np.sqrt(a))\n",
    "    \n",
    "    km = 6367 * c  # Earth's radius in km\n",
    "    return km"
   ]
  },
  {
   "cell_type": "code",
   "execution_count": 3,
   "id": "0a022760",
   "metadata": {},
   "outputs": [
    {
     "name": "stdout",
     "output_type": "stream",
     "text": [
      "Great-circle distance: 7970.24 km\n"
     ]
    }
   ],
   "source": [
    "# live code this\n",
    "# Coordinates: (lat, lon)\n",
    "accra = (5.6037, -0.1870)          # Accra, Ghana\n",
    "woods_hole = (41.5265, -70.6737)   # Woods Hole, MA, USA\n",
    "\n",
    "distance_km = haversine_np(accra, woods_hole)\n",
    "print(f\"Great-circle distance: {distance_km:.2f} km\")"
   ]
  },
  {
   "cell_type": "markdown",
   "id": "9cf4a862",
   "metadata": {},
   "source": [
    "### Loading Data"
   ]
  },
  {
   "cell_type": "markdown",
   "id": "5b297478",
   "metadata": {},
   "source": [
    "In physical oceanography, we're often working with large datasets that are *geo-referenced* - arrays of physical variables like temperature and salinity in which each measurement has a latitude and longitude coordinate. Data structured this way is often packaged in \"NetCDF\" format (file extension \".nc\") and can be read by several python packages. One of the most commonly used is **xarray** [link to xarray github and include some of their info about it]"
   ]
  },
  {
   "cell_type": "code",
   "execution_count": 6,
   "id": "0e1b48d8",
   "metadata": {},
   "outputs": [],
   "source": [
    "import xarray as xr\n",
    "import fsspec\n",
    "import json"
   ]
  },
  {
   "cell_type": "markdown",
   "id": "e7dcab5d",
   "metadata": {},
   "source": [
    "The data we're going to use in this workshop is hosted online at a url. Data can be directly downloaded from online servers `code that downloads data from a server - wget?` but in this case we will simply \"stream\" the data instead of doing a direct download. The urls for all the netCDFs are stored in the attached JSON file (this is only slightly fancier than a plain text file in that it allows us to group like-files together, but a simple text file of urls would also work fine). JSON files can be read with the follow command:"
   ]
  },
  {
   "cell_type": "code",
   "execution_count": 12,
   "id": "de2028bd",
   "metadata": {},
   "outputs": [],
   "source": [
    "with open(\"./data/data_manifest_January.json\", \"r\") as f:\n",
    "    manifest = json.load(f)"
   ]
  },
  {
   "cell_type": "markdown",
   "id": "82234ef7",
   "metadata": {},
   "source": [
    "We can then loop through the urls in the manifest and open them in **xarray**"
   ]
  },
  {
   "cell_type": "code",
   "execution_count": null,
   "id": "e9bb8b56",
   "metadata": {},
   "outputs": [
    {
     "name": "stderr",
     "output_type": "stream",
     "text": [
      "/tmp/ipykernel_553210/3259604366.py:9: FutureWarning: In a future version, xarray will not decode timedelta values based on the presence of a timedelta-like units attribute by default. Instead it will rely on the presence of a timedelta64 dtype attribute, which is now xarray's default way of encoding timedelta64 values. To continue decoding timedeltas based on the presence of a timedelta-like units attribute, users will need to explicitly opt-in by passing True or CFTimedeltaCoder(decode_via_units=True) to decode_timedelta. To silence this warning, set decode_timedelta to True, False, or a 'CFTimedeltaCoder' instance.\n",
      "  ds = xr.open_dataset(f)\n",
      "/tmp/ipykernel_553210/3259604366.py:9: FutureWarning: In a future version, xarray will not decode timedelta values based on the presence of a timedelta-like units attribute by default. Instead it will rely on the presence of a timedelta64 dtype attribute, which is now xarray's default way of encoding timedelta64 values. To continue decoding timedeltas based on the presence of a timedelta-like units attribute, users will need to explicitly opt-in by passing True or CFTimedeltaCoder(decode_via_units=True) to decode_timedelta. To silence this warning, set decode_timedelta to True, False, or a 'CFTimedeltaCoder' instance.\n",
      "  ds = xr.open_dataset(f)\n",
      "/tmp/ipykernel_553210/3259604366.py:9: FutureWarning: In a future version, xarray will not decode timedelta values based on the presence of a timedelta-like units attribute by default. Instead it will rely on the presence of a timedelta64 dtype attribute, which is now xarray's default way of encoding timedelta64 values. To continue decoding timedeltas based on the presence of a timedelta-like units attribute, users will need to explicitly opt-in by passing True or CFTimedeltaCoder(decode_via_units=True) to decode_timedelta. To silence this warning, set decode_timedelta to True, False, or a 'CFTimedeltaCoder' instance.\n",
      "  ds = xr.open_dataset(f)\n",
      "/tmp/ipykernel_553210/3259604366.py:9: FutureWarning: In a future version, xarray will not decode timedelta values based on the presence of a timedelta-like units attribute by default. Instead it will rely on the presence of a timedelta64 dtype attribute, which is now xarray's default way of encoding timedelta64 values. To continue decoding timedeltas based on the presence of a timedelta-like units attribute, users will need to explicitly opt-in by passing True or CFTimedeltaCoder(decode_via_units=True) to decode_timedelta. To silence this warning, set decode_timedelta to True, False, or a 'CFTimedeltaCoder' instance.\n",
      "  ds = xr.open_dataset(f)\n",
      "/tmp/ipykernel_553210/3259604366.py:9: FutureWarning: In a future version, xarray will not decode timedelta values based on the presence of a timedelta-like units attribute by default. Instead it will rely on the presence of a timedelta64 dtype attribute, which is now xarray's default way of encoding timedelta64 values. To continue decoding timedeltas based on the presence of a timedelta-like units attribute, users will need to explicitly opt-in by passing True or CFTimedeltaCoder(decode_via_units=True) to decode_timedelta. To silence this warning, set decode_timedelta to True, False, or a 'CFTimedeltaCoder' instance.\n",
      "  ds = xr.open_dataset(f)\n",
      "/tmp/ipykernel_553210/3259604366.py:9: FutureWarning: In a future version, xarray will not decode timedelta values based on the presence of a timedelta-like units attribute by default. Instead it will rely on the presence of a timedelta64 dtype attribute, which is now xarray's default way of encoding timedelta64 values. To continue decoding timedeltas based on the presence of a timedelta-like units attribute, users will need to explicitly opt-in by passing True or CFTimedeltaCoder(decode_via_units=True) to decode_timedelta. To silence this warning, set decode_timedelta to True, False, or a 'CFTimedeltaCoder' instance.\n",
      "  ds = xr.open_dataset(f)\n",
      "/tmp/ipykernel_553210/3259604366.py:9: FutureWarning: In a future version, xarray will not decode timedelta values based on the presence of a timedelta-like units attribute by default. Instead it will rely on the presence of a timedelta64 dtype attribute, which is now xarray's default way of encoding timedelta64 values. To continue decoding timedeltas based on the presence of a timedelta-like units attribute, users will need to explicitly opt-in by passing True or CFTimedeltaCoder(decode_via_units=True) to decode_timedelta. To silence this warning, set decode_timedelta to True, False, or a 'CFTimedeltaCoder' instance.\n",
      "  ds = xr.open_dataset(f)\n",
      "/tmp/ipykernel_553210/3259604366.py:9: FutureWarning: In a future version, xarray will not decode timedelta values based on the presence of a timedelta-like units attribute by default. Instead it will rely on the presence of a timedelta64 dtype attribute, which is now xarray's default way of encoding timedelta64 values. To continue decoding timedeltas based on the presence of a timedelta-like units attribute, users will need to explicitly opt-in by passing True or CFTimedeltaCoder(decode_via_units=True) to decode_timedelta. To silence this warning, set decode_timedelta to True, False, or a 'CFTimedeltaCoder' instance.\n",
      "  ds = xr.open_dataset(f)\n",
      "/tmp/ipykernel_553210/3259604366.py:9: FutureWarning: In a future version, xarray will not decode timedelta values based on the presence of a timedelta-like units attribute by default. Instead it will rely on the presence of a timedelta64 dtype attribute, which is now xarray's default way of encoding timedelta64 values. To continue decoding timedeltas based on the presence of a timedelta-like units attribute, users will need to explicitly opt-in by passing True or CFTimedeltaCoder(decode_via_units=True) to decode_timedelta. To silence this warning, set decode_timedelta to True, False, or a 'CFTimedeltaCoder' instance.\n",
      "  ds = xr.open_dataset(f)\n",
      "/tmp/ipykernel_553210/3259604366.py:9: FutureWarning: In a future version, xarray will not decode timedelta values based on the presence of a timedelta-like units attribute by default. Instead it will rely on the presence of a timedelta64 dtype attribute, which is now xarray's default way of encoding timedelta64 values. To continue decoding timedeltas based on the presence of a timedelta-like units attribute, users will need to explicitly opt-in by passing True or CFTimedeltaCoder(decode_via_units=True) to decode_timedelta. To silence this warning, set decode_timedelta to True, False, or a 'CFTimedeltaCoder' instance.\n",
      "  ds = xr.open_dataset(f)\n",
      "/tmp/ipykernel_553210/3259604366.py:9: FutureWarning: In a future version, xarray will not decode timedelta values based on the presence of a timedelta-like units attribute by default. Instead it will rely on the presence of a timedelta64 dtype attribute, which is now xarray's default way of encoding timedelta64 values. To continue decoding timedeltas based on the presence of a timedelta-like units attribute, users will need to explicitly opt-in by passing True or CFTimedeltaCoder(decode_via_units=True) to decode_timedelta. To silence this warning, set decode_timedelta to True, False, or a 'CFTimedeltaCoder' instance.\n",
      "  ds = xr.open_dataset(f)\n",
      "/tmp/ipykernel_553210/3259604366.py:9: FutureWarning: In a future version, xarray will not decode timedelta values based on the presence of a timedelta-like units attribute by default. Instead it will rely on the presence of a timedelta64 dtype attribute, which is now xarray's default way of encoding timedelta64 values. To continue decoding timedeltas based on the presence of a timedelta-like units attribute, users will need to explicitly opt-in by passing True or CFTimedeltaCoder(decode_via_units=True) to decode_timedelta. To silence this warning, set decode_timedelta to True, False, or a 'CFTimedeltaCoder' instance.\n",
      "  ds = xr.open_dataset(f)\n",
      "/tmp/ipykernel_553210/3259604366.py:9: FutureWarning: In a future version, xarray will not decode timedelta values based on the presence of a timedelta-like units attribute by default. Instead it will rely on the presence of a timedelta64 dtype attribute, which is now xarray's default way of encoding timedelta64 values. To continue decoding timedeltas based on the presence of a timedelta-like units attribute, users will need to explicitly opt-in by passing True or CFTimedeltaCoder(decode_via_units=True) to decode_timedelta. To silence this warning, set decode_timedelta to True, False, or a 'CFTimedeltaCoder' instance.\n",
      "  ds = xr.open_dataset(f)\n",
      "/tmp/ipykernel_553210/3259604366.py:9: FutureWarning: In a future version, xarray will not decode timedelta values based on the presence of a timedelta-like units attribute by default. Instead it will rely on the presence of a timedelta64 dtype attribute, which is now xarray's default way of encoding timedelta64 values. To continue decoding timedeltas based on the presence of a timedelta-like units attribute, users will need to explicitly opt-in by passing True or CFTimedeltaCoder(decode_via_units=True) to decode_timedelta. To silence this warning, set decode_timedelta to True, False, or a 'CFTimedeltaCoder' instance.\n",
      "  ds = xr.open_dataset(f)\n",
      "/tmp/ipykernel_553210/3259604366.py:9: FutureWarning: In a future version, xarray will not decode timedelta values based on the presence of a timedelta-like units attribute by default. Instead it will rely on the presence of a timedelta64 dtype attribute, which is now xarray's default way of encoding timedelta64 values. To continue decoding timedeltas based on the presence of a timedelta-like units attribute, users will need to explicitly opt-in by passing True or CFTimedeltaCoder(decode_via_units=True) to decode_timedelta. To silence this warning, set decode_timedelta to True, False, or a 'CFTimedeltaCoder' instance.\n",
      "  ds = xr.open_dataset(f)\n",
      "/tmp/ipykernel_553210/3259604366.py:9: FutureWarning: In a future version, xarray will not decode timedelta values based on the presence of a timedelta-like units attribute by default. Instead it will rely on the presence of a timedelta64 dtype attribute, which is now xarray's default way of encoding timedelta64 values. To continue decoding timedeltas based on the presence of a timedelta-like units attribute, users will need to explicitly opt-in by passing True or CFTimedeltaCoder(decode_via_units=True) to decode_timedelta. To silence this warning, set decode_timedelta to True, False, or a 'CFTimedeltaCoder' instance.\n",
      "  ds = xr.open_dataset(f)\n",
      "/tmp/ipykernel_553210/3259604366.py:9: FutureWarning: In a future version, xarray will not decode timedelta values based on the presence of a timedelta-like units attribute by default. Instead it will rely on the presence of a timedelta64 dtype attribute, which is now xarray's default way of encoding timedelta64 values. To continue decoding timedeltas based on the presence of a timedelta-like units attribute, users will need to explicitly opt-in by passing True or CFTimedeltaCoder(decode_via_units=True) to decode_timedelta. To silence this warning, set decode_timedelta to True, False, or a 'CFTimedeltaCoder' instance.\n",
      "  ds = xr.open_dataset(f)\n",
      "/tmp/ipykernel_553210/3259604366.py:9: FutureWarning: In a future version, xarray will not decode timedelta values based on the presence of a timedelta-like units attribute by default. Instead it will rely on the presence of a timedelta64 dtype attribute, which is now xarray's default way of encoding timedelta64 values. To continue decoding timedeltas based on the presence of a timedelta-like units attribute, users will need to explicitly opt-in by passing True or CFTimedeltaCoder(decode_via_units=True) to decode_timedelta. To silence this warning, set decode_timedelta to True, False, or a 'CFTimedeltaCoder' instance.\n",
      "  ds = xr.open_dataset(f)\n",
      "/tmp/ipykernel_553210/3259604366.py:9: FutureWarning: In a future version, xarray will not decode timedelta values based on the presence of a timedelta-like units attribute by default. Instead it will rely on the presence of a timedelta64 dtype attribute, which is now xarray's default way of encoding timedelta64 values. To continue decoding timedeltas based on the presence of a timedelta-like units attribute, users will need to explicitly opt-in by passing True or CFTimedeltaCoder(decode_via_units=True) to decode_timedelta. To silence this warning, set decode_timedelta to True, False, or a 'CFTimedeltaCoder' instance.\n",
      "  ds = xr.open_dataset(f)\n",
      "/tmp/ipykernel_553210/3259604366.py:9: FutureWarning: In a future version, xarray will not decode timedelta values based on the presence of a timedelta-like units attribute by default. Instead it will rely on the presence of a timedelta64 dtype attribute, which is now xarray's default way of encoding timedelta64 values. To continue decoding timedeltas based on the presence of a timedelta-like units attribute, users will need to explicitly opt-in by passing True or CFTimedeltaCoder(decode_via_units=True) to decode_timedelta. To silence this warning, set decode_timedelta to True, False, or a 'CFTimedeltaCoder' instance.\n",
      "  ds = xr.open_dataset(f)\n",
      "/tmp/ipykernel_553210/3259604366.py:9: FutureWarning: In a future version, xarray will not decode timedelta values based on the presence of a timedelta-like units attribute by default. Instead it will rely on the presence of a timedelta64 dtype attribute, which is now xarray's default way of encoding timedelta64 values. To continue decoding timedeltas based on the presence of a timedelta-like units attribute, users will need to explicitly opt-in by passing True or CFTimedeltaCoder(decode_via_units=True) to decode_timedelta. To silence this warning, set decode_timedelta to True, False, or a 'CFTimedeltaCoder' instance.\n",
      "  ds = xr.open_dataset(f)\n",
      "/tmp/ipykernel_553210/3259604366.py:9: FutureWarning: In a future version, xarray will not decode timedelta values based on the presence of a timedelta-like units attribute by default. Instead it will rely on the presence of a timedelta64 dtype attribute, which is now xarray's default way of encoding timedelta64 values. To continue decoding timedeltas based on the presence of a timedelta-like units attribute, users will need to explicitly opt-in by passing True or CFTimedeltaCoder(decode_via_units=True) to decode_timedelta. To silence this warning, set decode_timedelta to True, False, or a 'CFTimedeltaCoder' instance.\n",
      "  ds = xr.open_dataset(f)\n",
      "/tmp/ipykernel_553210/3259604366.py:9: FutureWarning: In a future version, xarray will not decode timedelta values based on the presence of a timedelta-like units attribute by default. Instead it will rely on the presence of a timedelta64 dtype attribute, which is now xarray's default way of encoding timedelta64 values. To continue decoding timedeltas based on the presence of a timedelta-like units attribute, users will need to explicitly opt-in by passing True or CFTimedeltaCoder(decode_via_units=True) to decode_timedelta. To silence this warning, set decode_timedelta to True, False, or a 'CFTimedeltaCoder' instance.\n",
      "  ds = xr.open_dataset(f)\n",
      "/tmp/ipykernel_553210/3259604366.py:9: FutureWarning: In a future version, xarray will not decode timedelta values based on the presence of a timedelta-like units attribute by default. Instead it will rely on the presence of a timedelta64 dtype attribute, which is now xarray's default way of encoding timedelta64 values. To continue decoding timedeltas based on the presence of a timedelta-like units attribute, users will need to explicitly opt-in by passing True or CFTimedeltaCoder(decode_via_units=True) to decode_timedelta. To silence this warning, set decode_timedelta to True, False, or a 'CFTimedeltaCoder' instance.\n",
      "  ds = xr.open_dataset(f)\n",
      "/tmp/ipykernel_553210/3259604366.py:9: FutureWarning: In a future version, xarray will not decode timedelta values based on the presence of a timedelta-like units attribute by default. Instead it will rely on the presence of a timedelta64 dtype attribute, which is now xarray's default way of encoding timedelta64 values. To continue decoding timedeltas based on the presence of a timedelta-like units attribute, users will need to explicitly opt-in by passing True or CFTimedeltaCoder(decode_via_units=True) to decode_timedelta. To silence this warning, set decode_timedelta to True, False, or a 'CFTimedeltaCoder' instance.\n",
      "  ds = xr.open_dataset(f)\n",
      "/tmp/ipykernel_553210/3259604366.py:9: FutureWarning: In a future version, xarray will not decode timedelta values based on the presence of a timedelta-like units attribute by default. Instead it will rely on the presence of a timedelta64 dtype attribute, which is now xarray's default way of encoding timedelta64 values. To continue decoding timedeltas based on the presence of a timedelta-like units attribute, users will need to explicitly opt-in by passing True or CFTimedeltaCoder(decode_via_units=True) to decode_timedelta. To silence this warning, set decode_timedelta to True, False, or a 'CFTimedeltaCoder' instance.\n",
      "  ds = xr.open_dataset(f)\n",
      "/tmp/ipykernel_553210/3259604366.py:9: FutureWarning: In a future version, xarray will not decode timedelta values based on the presence of a timedelta-like units attribute by default. Instead it will rely on the presence of a timedelta64 dtype attribute, which is now xarray's default way of encoding timedelta64 values. To continue decoding timedeltas based on the presence of a timedelta-like units attribute, users will need to explicitly opt-in by passing True or CFTimedeltaCoder(decode_via_units=True) to decode_timedelta. To silence this warning, set decode_timedelta to True, False, or a 'CFTimedeltaCoder' instance.\n",
      "  ds = xr.open_dataset(f)\n",
      "/tmp/ipykernel_553210/3259604366.py:9: FutureWarning: In a future version, xarray will not decode timedelta values based on the presence of a timedelta-like units attribute by default. Instead it will rely on the presence of a timedelta64 dtype attribute, which is now xarray's default way of encoding timedelta64 values. To continue decoding timedeltas based on the presence of a timedelta-like units attribute, users will need to explicitly opt-in by passing True or CFTimedeltaCoder(decode_via_units=True) to decode_timedelta. To silence this warning, set decode_timedelta to True, False, or a 'CFTimedeltaCoder' instance.\n",
      "  ds = xr.open_dataset(f)\n",
      "/tmp/ipykernel_553210/3259604366.py:9: FutureWarning: In a future version, xarray will not decode timedelta values based on the presence of a timedelta-like units attribute by default. Instead it will rely on the presence of a timedelta64 dtype attribute, which is now xarray's default way of encoding timedelta64 values. To continue decoding timedeltas based on the presence of a timedelta-like units attribute, users will need to explicitly opt-in by passing True or CFTimedeltaCoder(decode_via_units=True) to decode_timedelta. To silence this warning, set decode_timedelta to True, False, or a 'CFTimedeltaCoder' instance.\n",
      "  ds = xr.open_dataset(f)\n",
      "/tmp/ipykernel_553210/3259604366.py:9: FutureWarning: In a future version, xarray will not decode timedelta values based on the presence of a timedelta-like units attribute by default. Instead it will rely on the presence of a timedelta64 dtype attribute, which is now xarray's default way of encoding timedelta64 values. To continue decoding timedeltas based on the presence of a timedelta-like units attribute, users will need to explicitly opt-in by passing True or CFTimedeltaCoder(decode_via_units=True) to decode_timedelta. To silence this warning, set decode_timedelta to True, False, or a 'CFTimedeltaCoder' instance.\n",
      "  ds = xr.open_dataset(f)\n",
      "/tmp/ipykernel_553210/3259604366.py:9: FutureWarning: In a future version, xarray will not decode timedelta values based on the presence of a timedelta-like units attribute by default. Instead it will rely on the presence of a timedelta64 dtype attribute, which is now xarray's default way of encoding timedelta64 values. To continue decoding timedeltas based on the presence of a timedelta-like units attribute, users will need to explicitly opt-in by passing True or CFTimedeltaCoder(decode_via_units=True) to decode_timedelta. To silence this warning, set decode_timedelta to True, False, or a 'CFTimedeltaCoder' instance.\n",
      "  ds = xr.open_dataset(f)\n",
      "/tmp/ipykernel_553210/3259604366.py:9: FutureWarning: In a future version, xarray will not decode timedelta values based on the presence of a timedelta-like units attribute by default. Instead it will rely on the presence of a timedelta64 dtype attribute, which is now xarray's default way of encoding timedelta64 values. To continue decoding timedeltas based on the presence of a timedelta-like units attribute, users will need to explicitly opt-in by passing True or CFTimedeltaCoder(decode_via_units=True) to decode_timedelta. To silence this warning, set decode_timedelta to True, False, or a 'CFTimedeltaCoder' instance.\n",
      "  ds = xr.open_dataset(f)\n",
      "/tmp/ipykernel_553210/3259604366.py:9: FutureWarning: In a future version, xarray will not decode timedelta values based on the presence of a timedelta-like units attribute by default. Instead it will rely on the presence of a timedelta64 dtype attribute, which is now xarray's default way of encoding timedelta64 values. To continue decoding timedeltas based on the presence of a timedelta-like units attribute, users will need to explicitly opt-in by passing True or CFTimedeltaCoder(decode_via_units=True) to decode_timedelta. To silence this warning, set decode_timedelta to True, False, or a 'CFTimedeltaCoder' instance.\n",
      "  ds = xr.open_dataset(f)\n",
      "/tmp/ipykernel_553210/3259604366.py:9: FutureWarning: In a future version, xarray will not decode timedelta values based on the presence of a timedelta-like units attribute by default. Instead it will rely on the presence of a timedelta64 dtype attribute, which is now xarray's default way of encoding timedelta64 values. To continue decoding timedeltas based on the presence of a timedelta-like units attribute, users will need to explicitly opt-in by passing True or CFTimedeltaCoder(decode_via_units=True) to decode_timedelta. To silence this warning, set decode_timedelta to True, False, or a 'CFTimedeltaCoder' instance.\n",
      "  ds = xr.open_dataset(f)\n",
      "/tmp/ipykernel_553210/3259604366.py:9: FutureWarning: In a future version, xarray will not decode timedelta values based on the presence of a timedelta-like units attribute by default. Instead it will rely on the presence of a timedelta64 dtype attribute, which is now xarray's default way of encoding timedelta64 values. To continue decoding timedeltas based on the presence of a timedelta-like units attribute, users will need to explicitly opt-in by passing True or CFTimedeltaCoder(decode_via_units=True) to decode_timedelta. To silence this warning, set decode_timedelta to True, False, or a 'CFTimedeltaCoder' instance.\n",
      "  ds = xr.open_dataset(f)\n",
      "/tmp/ipykernel_553210/3259604366.py:9: FutureWarning: In a future version, xarray will not decode timedelta values based on the presence of a timedelta-like units attribute by default. Instead it will rely on the presence of a timedelta64 dtype attribute, which is now xarray's default way of encoding timedelta64 values. To continue decoding timedeltas based on the presence of a timedelta-like units attribute, users will need to explicitly opt-in by passing True or CFTimedeltaCoder(decode_via_units=True) to decode_timedelta. To silence this warning, set decode_timedelta to True, False, or a 'CFTimedeltaCoder' instance.\n",
      "  ds = xr.open_dataset(f)\n",
      "/tmp/ipykernel_553210/3259604366.py:9: FutureWarning: In a future version, xarray will not decode timedelta values based on the presence of a timedelta-like units attribute by default. Instead it will rely on the presence of a timedelta64 dtype attribute, which is now xarray's default way of encoding timedelta64 values. To continue decoding timedeltas based on the presence of a timedelta-like units attribute, users will need to explicitly opt-in by passing True or CFTimedeltaCoder(decode_via_units=True) to decode_timedelta. To silence this warning, set decode_timedelta to True, False, or a 'CFTimedeltaCoder' instance.\n",
      "  ds = xr.open_dataset(f)\n",
      "/tmp/ipykernel_553210/3259604366.py:9: FutureWarning: In a future version, xarray will not decode timedelta values based on the presence of a timedelta-like units attribute by default. Instead it will rely on the presence of a timedelta64 dtype attribute, which is now xarray's default way of encoding timedelta64 values. To continue decoding timedeltas based on the presence of a timedelta-like units attribute, users will need to explicitly opt-in by passing True or CFTimedeltaCoder(decode_via_units=True) to decode_timedelta. To silence this warning, set decode_timedelta to True, False, or a 'CFTimedeltaCoder' instance.\n",
      "  ds = xr.open_dataset(f)\n",
      "/tmp/ipykernel_553210/3259604366.py:9: FutureWarning: In a future version, xarray will not decode timedelta values based on the presence of a timedelta-like units attribute by default. Instead it will rely on the presence of a timedelta64 dtype attribute, which is now xarray's default way of encoding timedelta64 values. To continue decoding timedeltas based on the presence of a timedelta-like units attribute, users will need to explicitly opt-in by passing True or CFTimedeltaCoder(decode_via_units=True) to decode_timedelta. To silence this warning, set decode_timedelta to True, False, or a 'CFTimedeltaCoder' instance.\n",
      "  ds = xr.open_dataset(f)\n",
      "/tmp/ipykernel_553210/3259604366.py:9: FutureWarning: In a future version, xarray will not decode timedelta values based on the presence of a timedelta-like units attribute by default. Instead it will rely on the presence of a timedelta64 dtype attribute, which is now xarray's default way of encoding timedelta64 values. To continue decoding timedeltas based on the presence of a timedelta-like units attribute, users will need to explicitly opt-in by passing True or CFTimedeltaCoder(decode_via_units=True) to decode_timedelta. To silence this warning, set decode_timedelta to True, False, or a 'CFTimedeltaCoder' instance.\n",
      "  ds = xr.open_dataset(f)\n"
     ]
    },
    {
     "name": "stdout",
     "output_type": "stream",
     "text": [
      "Loaded 42 CTD files\n"
     ]
    },
    {
     "name": "stderr",
     "output_type": "stream",
     "text": [
      "/tmp/ipykernel_553210/3259604366.py:9: FutureWarning: In a future version, xarray will not decode timedelta values based on the presence of a timedelta-like units attribute by default. Instead it will rely on the presence of a timedelta64 dtype attribute, which is now xarray's default way of encoding timedelta64 values. To continue decoding timedeltas based on the presence of a timedelta-like units attribute, users will need to explicitly opt-in by passing True or CFTimedeltaCoder(decode_via_units=True) to decode_timedelta. To silence this warning, set decode_timedelta to True, False, or a 'CFTimedeltaCoder' instance.\n",
      "  ds = xr.open_dataset(f)\n",
      "/tmp/ipykernel_553210/3259604366.py:9: FutureWarning: In a future version, xarray will not decode timedelta values based on the presence of a timedelta-like units attribute by default. Instead it will rely on the presence of a timedelta64 dtype attribute, which is now xarray's default way of encoding timedelta64 values. To continue decoding timedeltas based on the presence of a timedelta-like units attribute, users will need to explicitly opt-in by passing True or CFTimedeltaCoder(decode_via_units=True) to decode_timedelta. To silence this warning, set decode_timedelta to True, False, or a 'CFTimedeltaCoder' instance.\n",
      "  ds = xr.open_dataset(f)\n"
     ]
    }
   ],
   "source": [
    "# choose data type and optional density contour flag\n",
    "data_type = 'ctd'\n",
    "density_contour = False\n",
    "\n",
    "# load main datasets\n",
    "datasets = []\n",
    "for url in manifest.get(data_type, []):\n",
    "    with fsspec.open(url, mode='rb') as f:\n",
    "        ds = xr.open_dataset(f, decode_timedelta=True) # flag decode_timedelta=True to suppress warnings\n",
    "        datasets.append(ds)\n",
    "\n",
    "# load optional CTD datasets for density contour\n",
    "datasets_ctd = []\n",
    "if density_contour and data_type != 'ctd':\n",
    "    for url in manifest.get('ctd', []):\n",
    "        with fsspec.open(url, mode='rb') as f:\n",
    "            ds = xr.open_dataset(f, decode_timedelta=True)\n",
    "            datasets_ctd.append(ds)\n"
   ]
  },
  {
   "cell_type": "code",
   "execution_count": 26,
   "id": "37a2f42d",
   "metadata": {},
   "outputs": [
    {
     "data": {
      "text/plain": [
       "array([ 11.64289312,  11.76066653,  11.86185118,  11.97552827,\n",
       "        12.08768652,  12.20712862,  12.34774027,  12.46243352,\n",
       "        12.59614661,  12.74158926,  12.89091771,  13.02470437,\n",
       "        13.16832254,  13.30863308,  13.44793505,  13.59360811,\n",
       "        13.73443843,  13.87905174,  14.01632118,  14.15259524,\n",
       "        14.28986425,  14.42820673,  14.57106619,  14.70606355,\n",
       "        14.83293734,  14.98673267,  15.14560874,  15.28562838,\n",
       "        15.43638604,  15.57368985,  15.72773014,  15.87514601,\n",
       "        16.02188391,  16.17484484,  16.31851627,  16.47055667,\n",
       "        16.63245099,  16.78469113,  16.93694888,  17.09435111,\n",
       "        17.25198397,  17.40933366,  17.5544582 ,  17.70643861,\n",
       "        17.85801198,  18.00552452,  18.1636085 ,  18.31027961,\n",
       "        18.4600788 ,  18.60266462,  18.75348176,  18.90753005,\n",
       "        19.05502285,  19.19280239,  19.35955399,  19.49485574,\n",
       "        19.64664916,  19.78854623,  19.94370261,  20.09111234,\n",
       "        20.23836122,  20.40557531,  20.56167917,  20.71806389,\n",
       "        20.87192579,  21.03683361,  21.19498912,  21.36130656,\n",
       "        21.5374454 ,  21.70372027,  21.86339404,  22.03753569,\n",
       "        22.20001013,  22.36999837,  22.535308  ,  22.70895322,\n",
       "        22.89194301,  23.06588124,  23.25219714,  23.43115788,\n",
       "        23.62257604,  23.80076714,  23.9876168 ,  24.18311428,\n",
       "        24.38519638,  24.57152742,  24.76293625,  24.95163038,\n",
       "        25.15207924,  25.34784811,  25.55377809,  25.75228572,\n",
       "        25.9538807 ,  26.15442194,  26.35528241,  26.55229142,\n",
       "        26.74728712,  26.9549689 ,  27.15377967,  27.3606562 ,\n",
       "        27.56306448,  27.76237426,  27.96523342,  28.17242307,\n",
       "        28.37066452,  28.57159274,  28.77216254,  28.97428487,\n",
       "        29.17895903,  29.3843746 ,  29.58470209,  29.78811375,\n",
       "        29.99886576,  30.20632049,  30.41071932,  30.61785626,\n",
       "        30.83123833,  31.03030842,  31.23828775,  31.4475266 ,\n",
       "        31.64889685,  31.86220862,  32.06104011,  32.27079639,\n",
       "        32.47824492,  32.68801006,  32.88762638,  33.10116739,\n",
       "        33.3167452 ,  33.53112613,  33.74312341,  33.96407861,\n",
       "        34.16954344,  34.38027522,  34.59461669,  34.80511499,\n",
       "        35.01943895,  35.23689114,  35.45876544,  35.6741179 ,\n",
       "        35.89783702,  36.10862186,  36.34175179,  36.5545892 ,\n",
       "        36.78360616,  37.00677398,  37.23814842,  37.4631407 ,\n",
       "        37.69280636,  37.91491669,  38.14448207,  38.36537992,\n",
       "        38.5967361 ,  38.82099416,  39.04317139,  39.27904312,\n",
       "        39.49767015,  39.72060238,  39.94788604,  40.16299437,\n",
       "        40.39732687,  40.61696518,  40.83911796,  41.05188036,\n",
       "        41.28271634,  41.49570434,  41.71660164,  41.94004315,\n",
       "        42.16726026,  42.39323317,  42.62407606,  42.84414042,\n",
       "        43.07364805,  43.30213526,  43.53292526,  43.76143541,\n",
       "        43.99575052,  44.22247686,  44.44812834,  44.68447025,\n",
       "        44.91167882,  45.14143695,  45.3739426 ,  45.59274126,\n",
       "        45.82578713,  46.04987342,  46.27428792,  46.49817659,\n",
       "        46.73323133,  46.95455242,  47.18043783,  47.41067065,\n",
       "        47.63510812,  47.86476822,  48.09440262,  48.33174642,\n",
       "        48.5570978 ,  48.78319971,  49.02026937,  49.25275286,\n",
       "        49.49004186,  49.7206367 ,  49.94809077,  50.18053991,\n",
       "        50.41073648,  50.64472556,  50.87359637,  51.1007089 ,\n",
       "        51.32560844,  51.55796983,  51.78224815,  52.01292484,\n",
       "        52.23517107,  52.47217863,  52.69801201,  52.92531367,\n",
       "        53.15293299,  53.38255328,  53.60860054,  53.84328573,\n",
       "        54.06350267,  54.29079987,  54.52039907,  54.73905954,\n",
       "        54.96993662,  55.19624755,  55.41361888,  55.63965417,\n",
       "        55.86974478,  56.09324433,  56.32283467,  56.54444129,\n",
       "        56.7728267 ,  56.99682084,  57.22715491,  57.4549506 ,\n",
       "        57.6687483 ,  57.89989368,  58.12255685,  58.34450044,\n",
       "        58.56566187,  58.79216327,  59.00771328,  59.22994173,\n",
       "        59.44805693,  59.66925602,  59.899563  ,  60.12075268,\n",
       "        60.34164532,  60.56207627,  60.78523588,  61.01022194,\n",
       "        61.22703954,  61.44947986,  61.67146529,  61.88392474,\n",
       "        62.10814978,  62.32856421,  62.55502178,  62.7729135 ,\n",
       "        62.98641217,  63.20704475,  63.4251388 ,  63.63966963,\n",
       "        63.85473061,  64.07021637,  64.28687175,  64.50344323,\n",
       "        64.71849008,  64.9340404 ,  65.15441763,  65.36736214,\n",
       "        65.59139408,  65.8051644 ,  66.02172688,  66.23601657,\n",
       "        66.45868966,  66.67725929,  66.89235032,  67.1028165 ,\n",
       "        67.32374247,  67.54032739,  67.75890573,  67.97776871,\n",
       "        68.19104811,  68.40302926,  68.62165633,  68.8417938 ,\n",
       "        69.05899586,  69.2747123 ,  69.49659614,  69.71167457,\n",
       "        69.92520574,  70.15376112,  70.36674114,  70.58181021,\n",
       "        70.8006875 ,  71.02771994,  71.24404759,  71.46139037,\n",
       "        71.68588942,  71.90602609,  72.12493008,  72.34354976,\n",
       "        72.56420354,  72.78567389,  73.00530655,  73.21551696,\n",
       "        73.44639735,  73.6650122 ,  73.8883418 ,  74.10897537,\n",
       "        74.33189981,  74.5591361 ,  74.77607175,  75.00923301,\n",
       "        75.23473623,  75.46436091,  75.69242751,  75.92430361,\n",
       "        76.14883425,  76.3809988 ,  76.61344627,  76.83995014,\n",
       "        77.06220764,  77.29587702,  77.52321466,  77.74853547,\n",
       "        77.97353568,  78.20316375,  78.43306938,  78.65865331,\n",
       "        78.88548537,  79.11233598,  79.33866691,  79.57265647,\n",
       "                nan,          nan,  80.34344649,  80.47041853,\n",
       "        80.70360585,  80.93478401,  81.16344885,  81.39159572,\n",
       "        81.62222724,  81.84560169,  82.07323649,  82.29402294,\n",
       "        82.53086275,  82.76155932,  82.98286861,  83.21254872,\n",
       "        83.4335886 ,  83.6714069 ,  83.8991061 ,  84.12960959,\n",
       "        84.35706766,  84.59028762,  84.8256203 ,  85.06069131,\n",
       "        85.28301217,  85.51701298,  85.74905168,  85.99133057,\n",
       "        86.21902724,  86.44927857,  86.68616444,  86.91911117,\n",
       "        87.15712856,  87.39071012,  87.62758714,  87.85914717,\n",
       "        88.10290116,  88.3314554 ,  88.57594921,  88.81669367,\n",
       "        89.0586759 ,  89.29102408,  89.54021264,  89.77936477,\n",
       "        90.02599864,  90.26696894,  90.51204898,  90.75052703,\n",
       "        90.9956955 ,  91.2359212 ,  91.4807222 ,  91.73167538,\n",
       "        91.96840085,  92.20763662,  92.44819599,  92.68872319,\n",
       "        92.93076777,  93.17492221,  93.41465938,  93.64600759,\n",
       "        93.88275542,  94.12307436,  94.36108491,  94.60419561,\n",
       "        94.84323841,  95.08566503,  95.32540329,  95.56012659,\n",
       "        95.80400841,  96.04994835,  96.29382953,  96.52478778,\n",
       "        96.77808477,  97.01685397,  97.25726678,  97.49683545,\n",
       "        97.73474723,  97.98129117,  98.23217416,  98.47433198,\n",
       "        98.71471657,  98.95962683,  99.20877325,  99.45496081,\n",
       "        99.69632932,  99.93775828, 100.19162226, 100.43382631,\n",
       "       100.68368256, 100.92556191, 101.16724012, 101.40229621,\n",
       "       101.64830311, 101.89128981, 102.13439761, 102.37439146,\n",
       "       102.6166231 , 102.86134802, 103.10052356, 103.34047555,\n",
       "       103.58774256, 103.82310151, 104.06657852, 104.31084819,\n",
       "       104.55310111, 104.79941577, 105.04159729, 105.27853061,\n",
       "       105.52864419, 105.77294302, 106.01346993, 106.25669816,\n",
       "       106.50430634, 106.74735339, 106.98551538, 107.22878113,\n",
       "       107.47241478, 107.70186475, 107.94822189, 108.19025391,\n",
       "       108.43076344, 108.67964273, 108.9183236 , 109.16272665,\n",
       "       109.40043927, 109.63840131, 109.88349611, 110.13121156,\n",
       "       110.36602532, 110.59772065, 110.84789629, 111.08388246,\n",
       "       111.326214  , 111.57389081, 111.81900434, 112.05675316,\n",
       "       112.29170447, 112.54431281, 112.7819959 , 113.02393994,\n",
       "       113.2695457 , 113.5124007 , 113.74989463, 113.99739818,\n",
       "       114.24184857, 114.48207524, 114.71890414,          nan,\n",
       "       115.19396255, 115.43486032, 115.6818336 , 115.91961664,\n",
       "       116.16149834, 116.41079094, 116.64021014, 116.8767388 ,\n",
       "       117.1032859 , 117.35060259, 117.58205738, 117.82143523,\n",
       "       118.05290621, 118.28685576, 118.52795921, 118.76262014,\n",
       "       118.99613862, 119.22658222, 119.46340946, 119.70082428,\n",
       "       119.93657958, 120.16686156, 120.39807615, 120.62470595,\n",
       "       120.86896805, 121.09391912, 121.32433473, 121.55152149,\n",
       "       121.79299617, 122.01894818, 122.24813536, 122.47800928,\n",
       "       122.71269169, 122.94600746, 123.17860072, 123.40679305,\n",
       "       123.56255035, 123.61640219, 123.62388891])"
      ]
     },
     "execution_count": 26,
     "metadata": {},
     "output_type": "execute_result"
    }
   ],
   "source": [
    "datasets[0].P.values"
   ]
  },
  {
   "cell_type": "markdown",
   "id": "13c415b3",
   "metadata": {},
   "source": [
    "### Visualizing Data"
   ]
  },
  {
   "cell_type": "markdown",
   "id": "dfa1cc0b",
   "metadata": {},
   "source": [
    "To visualize this data, we can use **matplotlib.pyplot**."
   ]
  },
  {
   "cell_type": "code",
   "execution_count": 28,
   "id": "3b11d852",
   "metadata": {},
   "outputs": [],
   "source": [
    "import matplotlib.pyplot as plt"
   ]
  },
  {
   "cell_type": "code",
   "execution_count": null,
   "id": "7a246a27",
   "metadata": {},
   "outputs": [
    {
     "data": {
      "text/plain": [
       "[<matplotlib.lines.Line2D at 0x7f8b74a40ce0>]"
      ]
     },
     "execution_count": 23,
     "metadata": {},
     "output_type": "execute_result"
    },
    {
     "data": {
      "image/png": "[encoded data removed]",
      "text/plain": [
       "<Figure size 640x480 with 1 Axes>"
      ]
     },
     "metadata": {},
     "output_type": "display_data"
    }
   ],
   "source": [
    "# plot a single profile temperature, salinity, chlorophyll, oxygen\n",
    "datasets[0].CT.plot(label='Temperature')"
   ]
  },
  {
   "cell_type": "code",
   "execution_count": 36,
   "id": "23715f48",
   "metadata": {},
   "outputs": [
    {
     "data": {
      "text/plain": [
       "<matplotlib.legend.Legend at 0x7f8b7449c950>"
      ]
     },
     "execution_count": 36,
     "metadata": {},
     "output_type": "execute_result"
    },
    {
     "data": {
      "image/png": "[encoded data removed]",
      "text/plain": [
       "<Figure size 400x800 with 1 Axes>"
      ]
     },
     "metadata": {},
     "output_type": "display_data"
    }
   ],
   "source": [
    "index = 0\n",
    "\n",
    "temperature = datasets[index].CT\n",
    "pressure = datasets[index].P\n",
    "\n",
    "plt.figure(figsize=(4, 8))\n",
    "plt.plot(temperature, pressure, label='Temperature', color='red')\n",
    "plt.gca().invert_yaxis()  \n",
    "plt.xlabel('Temperature (°C)')\n",
    "plt.ylabel('Pressure (dbar)')\n",
    "plt.title('Temperature Profile')\n",
    "plt.legend()"
   ]
  },
  {
   "cell_type": "markdown",
   "id": "73c9a257",
   "metadata": {},
   "source": [
    "### Geophysical Data Analysis"
   ]
  },
  {
   "cell_type": "code",
   "execution_count": null,
   "id": "9659cad6",
   "metadata": {},
   "outputs": [],
   "source": [
    "import cartopy.crs as ccrs\n",
    "\n",
    "# plot the location of the transect with isobath contours? do not try to live code this lol or maybe include the scafolding"
   ]
  },
  {
   "cell_type": "code",
   "execution_count": null,
   "id": "695fc3d6",
   "metadata": {},
   "outputs": [],
   "source": [
    "import gsw\n",
    "# plot density. plot N^2"
   ]
  },
  {
   "cell_type": "code",
   "execution_count": null,
   "id": "c085d466",
   "metadata": {},
   "outputs": [],
   "source": [
    "# have the students plot the average? or i just show the average plots?\n",
    "\n",
    "# 'January', 'April', 'August'\n",
    "cruise = 'April'\n",
    "\n",
    "data_type = 'ctd'\n",
    "\n",
    "wkdir = f\"{os.environ['WINPATH']}/OneDrive - Massachusetts Institute of Technology/mit-whoi/gulf_of_guinea/coessing_2025/EcoCTD_data/{cruise}/\"\n",
    "data = glob.glob(wkdir + '*' + data_type + '.nc')\n",
    "\n",
    "datasets = [xr.open_dataset(f, decode_timedelta=True) for f in data]\n",
    "\n",
    "max_depth = 80\n",
    "depth_grid = np.linspace(10, max_depth, 50)  # Define a common depth grid\n",
    "\n",
    "# Initialize arrays to store interpolated values\n",
    "CT_interp = np.full((len(datasets), len(depth_grid)), np.nan)\n",
    "SA_interp = np.full((len(datasets), len(depth_grid)), np.nan)\n",
    "sigma_interp = np.full((len(datasets), len(depth_grid)), np.nan)\n",
    "\n",
    "# Interpolate each profile onto the common depth grid\n",
    "for i, ds in enumerate(datasets):\n",
    "    p = ds[\"P\"].values\n",
    "    ct = ds[\"CT\"].values\n",
    "    sa = ds[\"SA\"].values\n",
    "    \n",
    "    p = interpolate_nans(p, np.arange(len(p)))\n",
    "    ct = interpolate_nans(ct, np.arange(len(ct)))\n",
    "    sa = interpolate_nans(sa, np.arange(len(sa)))\n",
    "    \n",
    "    # Interpolate to the common depth grid\n",
    "    CT_interp[i, :] = np.interp(depth_grid, p, ct, left=np.nan, right=np.nan)\n",
    "    SA_interp[i, :] = np.interp(depth_grid, p, sa, left=np.nan, right=np.nan)\n",
    "\n",
    "    # compute protential density for each profile\n",
    "    sigma_interp[i, :] = gsw.density.sigma0(SA_interp[i, :], CT_interp[i, :])\n",
    "\n",
    "# Compute the mean profile and std\n",
    "CT_mean = np.nanmean(CT_interp, axis=0)\n",
    "CT_std  = np.nanstd(CT_interp, axis=0)\n",
    "\n",
    "SA_mean = np.nanmean(SA_interp, axis=0)\n",
    "SA_std  = np.nanstd(SA_interp, axis=0)\n",
    "\n",
    "sigma_mean = np.nanmean(sigma_interp, axis=0)\n",
    "sigma_std  = np.nanstd(sigma_interp, axis=0)\n",
    "\n",
    "\n",
    "# Create figure\n",
    "fig, (ax1, ax2, ax3) = plt.subplots(1, 3, figsize=(7, 6))\n",
    "\n",
    "# Plot mean profiles with variance\n",
    "ax1.plot(CT_mean, depth_grid, 'b', linewidth=2, label=\"Mean\")\n",
    "ax1.fill_betweenx(depth_grid, CT_mean - CT_std, CT_mean + CT_std, color='b', alpha=0.2, linewidth=0)\n",
    "\n",
    "ax2.plot(SA_mean, depth_grid, 'r', linewidth=2, label=\"Mean\")\n",
    "ax2.fill_betweenx(depth_grid, SA_mean - SA_std, SA_mean + SA_std, color='r', alpha=0.2, linewidth=0)\n",
    "\n",
    "ax3.plot(sigma_mean, depth_grid, 'purple', linewidth=2, label=\"Mean\")\n",
    "ax3.fill_betweenx(depth_grid, sigma_mean - sigma_std, sigma_mean + sigma_std, color='purple', alpha=0.2, linewidth=0)\n",
    "\n",
    "\n",
    "# Formatting axes\n",
    "ax1.set_ylabel('Pressure (dbar)') # 'Pressure (dbar)', 'Depth (m)'\n",
    "ax1.set_xlabel('Conservative Temperature (°C)')\n",
    "ax1.set_ylim(12, max_depth)\n",
    "ax1.set_xlim(15, 30)\n",
    "\n",
    "ax2.set_xlabel('Absolute Salinity (g/kg)')\n",
    "ax2.set_yticks([])\n",
    "ax2.set_ylim(12, max_depth)\n",
    "ax2.set_xlim(34.5, 36.5)\n",
    "\n",
    "ax3.set_xlabel('Potential Density (kg/m$^3$)')\n",
    "ax3.set_yticks([])\n",
    "ax3.set_ylim(12, max_depth)\n",
    "ax3.set_xlim(21, 28)\n",
    "\n",
    "ax1.invert_yaxis()\n",
    "ax2.invert_yaxis()\n",
    "ax3.invert_yaxis()\n",
    "\n",
    "fig.suptitle(f\"{cruise} Sakumono CTD profiles\")\n",
    "plt.tight_layout()\n",
    "plt.show()"
   ]
  }
 ],
 "metadata": {
  "kernelspec": {
   "display_name": "coessing-2025",
   "language": "python",
   "name": "python3"
  },
  "language_info": {
   "codemirror_mode": {
    "name": "ipython",
    "version": 3
   },
   "file_extension": ".py",
   "mimetype": "text/x-python",
   "name": "python",
   "nbconvert_exporter": "python",
   "pygments_lexer": "ipython3",
   "version": "3.12.5"
  }
 },
 "nbformat": 4,
 "nbformat_minor": 5
}
